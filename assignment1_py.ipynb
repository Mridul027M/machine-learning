{
  "nbformat": 4,
  "nbformat_minor": 0,
  "metadata": {
    "colab": {
      "name": "assignment1.py",
      "provenance": [],
      "collapsed_sections": [],
      "authorship_tag": "ABX9TyNzsCP4tbd5IYssCr/nYf/A",
      "include_colab_link": true
    },
    "kernelspec": {
      "name": "python3",
      "display_name": "Python 3"
    },
    "language_info": {
      "name": "python"
    }
  },
  "cells": [
    {
      "cell_type": "markdown",
      "metadata": {
        "id": "view-in-github",
        "colab_type": "text"
      },
      "source": [
        "<a href=\"https://colab.research.google.com/github/Mridul027M/machine-learning/blob/main/assignment1_py.ipynb\" target=\"_parent\"><img src=\"https://colab.research.google.com/assets/colab-badge.svg\" alt=\"Open In Colab\"/></a>"
      ]
    },
    {
      "cell_type": "markdown",
      "metadata": {
        "id": "U7t0P1qTvi31"
      },
      "source": [
        "part 1"
      ]
    },
    {
      "cell_type": "code",
      "metadata": {
        "colab": {
          "base_uri": "https://localhost:8080/"
        },
        "id": "sCYi8m0ls_an",
        "outputId": "c8d4b9dd-f8ad-46c0-d11a-9055b2701e6f"
      },
      "source": [
        "import numpy as np\n",
        "arr=np.zeros(10)\n",
        "print(arr)\n",
        "arr1=np.ones(10)\n",
        "print(arr1)\n",
        "arr2=np.ones(10)*5\n",
        "print(arr2)\n"
      ],
      "execution_count": null,
      "outputs": [
        {
          "output_type": "stream",
          "text": [
            "[0. 0. 0. 0. 0. 0. 0. 0. 0. 0.]\n",
            "[1. 1. 1. 1. 1. 1. 1. 1. 1. 1.]\n",
            "[5. 5. 5. 5. 5. 5. 5. 5. 5. 5.]\n"
          ],
          "name": "stdout"
        }
      ]
    },
    {
      "cell_type": "code",
      "metadata": {
        "id": "EyhijE8zPqUb"
      },
      "source": [
        ""
      ],
      "execution_count": null,
      "outputs": []
    },
    {
      "cell_type": "code",
      "metadata": {
        "colab": {
          "base_uri": "https://localhost:8080/"
        },
        "id": "JwJrZh7rtix3",
        "outputId": "5988b51f-bcfd-42cd-b67d-0a6872edd4ea"
      },
      "source": [
        "import numpy as np\n",
        "array=np.arange(10,50,2)\n",
        "\n",
        "print(array) "
      ],
      "execution_count": null,
      "outputs": [
        {
          "output_type": "stream",
          "text": [
            "[10 12 14 16 18 20 22 24 26 28 30 32 34 36 38 40 42 44 46 48]\n"
          ],
          "name": "stdout"
        }
      ]
    },
    {
      "cell_type": "code",
      "metadata": {
        "colab": {
          "base_uri": "https://localhost:8080/"
        },
        "id": "G2B94d5xt1y4",
        "outputId": "16faa822-e238-420a-b87a-d21ab6409e1b"
      },
      "source": [
        "import numpy as np\n",
        "from numpy import random\n",
        "\n",
        "x = np.random.rand(5,6)\n",
        "\n",
        "print(x)\n",
        "np.savetxt('/content/p1q4.txt',x)\n",
        "res=np.loadtxt('/content/p1q4.txt')\n",
        "print(\"loaded from the file:   \")\n",
        "print(res)\n"
      ],
      "execution_count": null,
      "outputs": [
        {
          "output_type": "stream",
          "text": [
            "[[0.48506781 0.84066939 0.22437791 0.71127457 0.08693806 0.73041901]\n",
            " [0.80669192 0.2065203  0.35808002 0.12054635 0.99049881 0.0571104 ]\n",
            " [0.21815649 0.04204094 0.67865165 0.40087861 0.60033341 0.42803843]\n",
            " [0.50000485 0.27982269 0.82934337 0.09820821 0.20323658 0.76462087]\n",
            " [0.95396211 0.30738605 0.68629525 0.74106519 0.37291406 0.65904787]]\n",
            "loaded from the file:   \n",
            "[[0.48506781 0.84066939 0.22437791 0.71127457 0.08693806 0.73041901]\n",
            " [0.80669192 0.2065203  0.35808002 0.12054635 0.99049881 0.0571104 ]\n",
            " [0.21815649 0.04204094 0.67865165 0.40087861 0.60033341 0.42803843]\n",
            " [0.50000485 0.27982269 0.82934337 0.09820821 0.20323658 0.76462087]\n",
            " [0.95396211 0.30738605 0.68629525 0.74106519 0.37291406 0.65904787]]\n"
          ],
          "name": "stdout"
        }
      ]
    },
    {
      "cell_type": "markdown",
      "metadata": {
        "id": "aiNro7zQvc7x"
      },
      "source": [
        "part 2\n"
      ]
    },
    {
      "cell_type": "code",
      "metadata": {
        "colab": {
          "base_uri": "https://localhost:8080/"
        },
        "id": "d8RImh535COq",
        "outputId": "3a823f0f-b0f1-4353-fda8-f053caddd66d"
      },
      "source": [
        "import numpy as np\n",
        "import pandas as pd\n",
        "import matplotlib.image as img\n",
        "\n",
        "imMatrix = img.imread('/content/panda_image.jpg')\n",
        "\n",
        "imMatrix = imageMatrix.reshape(imMatrix.shape[0],imMatrix.shape[1]*imMatrix.shape[2])\n",
        "\n",
        "df = pd.DataFrame(imMatrix)\n",
        "\n",
        "\n",
        "df.to_csv('csv_example',index=False)\n",
        "\n",
        "\n",
        "last_row = len(df)\n",
        "print(last_row)\n",
        "print(len(df.columns))\n",
        "new_df = pd.read_csv('csv_example',nrows=last_row-1,usecols=range(len(df.columns)-1))\n",
        "\n",
        "print(new_df)"
      ],
      "execution_count": null,
      "outputs": [
        {
          "output_type": "stream",
          "text": [
            "1500\n",
            "3000\n",
            "        0    1    2    3    4    5  ...  2993  2994  2995  2996  2997  2998\n",
            "0      50  111    0   46  105    0  ...     9    37    77     4    37    81\n",
            "1      44  106    0   42  102    2  ...     0    24    63     0    29    72\n",
            "2      38   99    6   33   92    0  ...     6    21    61     1    21    63\n",
            "3      35   98    9   26   88    0  ...     8    33    75    12    31    77\n",
            "4      45  108    4   40  103    0  ...     0    48    90    14    55   103\n",
            "...   ...  ...  ...  ...  ...  ...  ...   ...   ...   ...   ...   ...   ...\n",
            "1494  107  161   49   96  142   34  ...   110   180   185    85   133   148\n",
            "1495  109  160   57   88  133   32  ...    71   130   136    46   102   124\n",
            "1496  143  189   99  113  153   65  ...     4    82    79     2    86    94\n",
            "1497  188  223  165  171  205  145  ...     7    89    74     7    93    85\n",
            "1498  215  236  217  214  235  216  ...    25    95    76    18    86    76\n",
            "\n",
            "[1499 rows x 2999 columns]\n"
          ],
          "name": "stdout"
        }
      ]
    },
    {
      "cell_type": "code",
      "metadata": {
        "colab": {
          "base_uri": "https://localhost:8080/"
        },
        "id": "NgvuboMHvhFG",
        "outputId": "5ad61865-cc1b-46cf-fadd-1fafdbb63330"
      },
      "source": [
        "import pandas as pd\n",
        "from datetime import date\n",
        "current = pd.to_datetime(date.today()).date()\n",
        "print(current)"
      ],
      "execution_count": null,
      "outputs": [
        {
          "output_type": "stream",
          "text": [
            "2021-08-09\n"
          ],
          "name": "stdout"
        }
      ]
    },
    {
      "cell_type": "markdown",
      "metadata": {
        "id": "4fAaXIV6w40j"
      },
      "source": [
        "part 3"
      ]
    },
    {
      "cell_type": "code",
      "metadata": {
        "colab": {
          "base_uri": "https://localhost:8080/"
        },
        "id": "qSiqEGYTw2Gp",
        "outputId": "22085514-f3d2-4998-861d-6bd3236c0d73"
      },
      "source": [
        "from datetime import date\n",
        "\n",
        "def calculate_age(dtob):\n",
        "    today = date.today()\n",
        "    return today.year - dtob.year - ((today.month, today.day) < (dtob.month, dtob.day))\n",
        "print()\n",
        "year=int(input(\"year:\"))\n",
        "print()\n",
        "month=int(input(\"month:\"))\n",
        "print()\n",
        "day=int(input(\"day:\"))\n",
        "print(\"your age is-\",calculate_age(date(year,month,day)),\"years\")\n"
      ],
      "execution_count": null,
      "outputs": [
        {
          "output_type": "stream",
          "text": [
            "\n",
            "year:2000\n",
            "\n",
            "month:9\n",
            "\n",
            "day:8\n",
            "your age is- 20 years\n"
          ],
          "name": "stdout"
        }
      ]
    }
  ]
}