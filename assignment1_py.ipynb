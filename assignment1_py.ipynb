{
  "nbformat": 4,
  "nbformat_minor": 0,
  "metadata": {
    "colab": {
      "name": "assignment1.py",
      "provenance": [],
      "collapsed_sections": [],
      "authorship_tag": "ABX9TyNTyvxg9M+WBF5rmbRX6jOh",
      "include_colab_link": true
    },
    "kernelspec": {
      "name": "python3",
      "display_name": "Python 3"
    },
    "language_info": {
      "name": "python"
    }
  },
  "cells": [
    {
      "cell_type": "markdown",
      "metadata": {
        "id": "view-in-github",
        "colab_type": "text"
      },
      "source": [
        "<a href=\"https://colab.research.google.com/github/Mridul027M/machine-learning/blob/main/assignment1_py.ipynb\" target=\"_parent\"><img src=\"https://colab.research.google.com/assets/colab-badge.svg\" alt=\"Open In Colab\"/></a>"
      ]
    },
    {
      "cell_type": "markdown",
      "metadata": {
        "id": "U7t0P1qTvi31"
      },
      "source": [
        "part 1"
      ]
    },
    {
      "cell_type": "code",
      "metadata": {
        "colab": {
          "base_uri": "https://localhost:8080/"
        },
        "id": "sCYi8m0ls_an",
        "outputId": "c8d4b9dd-f8ad-46c0-d11a-9055b2701e6f"
      },
      "source": [
        "import numpy as np\n",
        "arr=np.zeros(10)\n",
        "print(arr)\n",
        "arr1=np.ones(10)\n",
        "print(arr1)\n",
        "arr2=np.ones(10)*5\n",
        "print(arr2)\n"
      ],
      "execution_count": 4,
      "outputs": [
        {
          "output_type": "stream",
          "text": [
            "[0. 0. 0. 0. 0. 0. 0. 0. 0. 0.]\n",
            "[1. 1. 1. 1. 1. 1. 1. 1. 1. 1.]\n",
            "[5. 5. 5. 5. 5. 5. 5. 5. 5. 5.]\n"
          ],
          "name": "stdout"
        }
      ]
    },
    {
      "cell_type": "code",
      "metadata": {
        "colab": {
          "base_uri": "https://localhost:8080/"
        },
        "id": "JwJrZh7rtix3",
        "outputId": "5988b51f-bcfd-42cd-b67d-0a6872edd4ea"
      },
      "source": [
        "import numpy as np\n",
        "array=np.arange(10,50,2)\n",
        "\n",
        "print(array) "
      ],
      "execution_count": 5,
      "outputs": [
        {
          "output_type": "stream",
          "text": [
            "[10 12 14 16 18 20 22 24 26 28 30 32 34 36 38 40 42 44 46 48]\n"
          ],
          "name": "stdout"
        }
      ]
    },
    {
      "cell_type": "code",
      "metadata": {
        "colab": {
          "base_uri": "https://localhost:8080/"
        },
        "id": "G2B94d5xt1y4",
        "outputId": "27c6be65-0ffb-4ece-e3c2-e586345a3cab"
      },
      "source": [
        "import numpy as np\n",
        "from numpy import random\n",
        "\n",
        "x = np.random.rand(3,3)\n",
        "\n",
        "print(x)\n",
        "np.savetxt('4.txt',x)\n",
        "res=np.loadtxt('4.txt')\n",
        "print(res)\n"
      ],
      "execution_count": 21,
      "outputs": [
        {
          "output_type": "stream",
          "text": [
            "[[0.84048435 0.12143363 0.75283211]\n",
            " [0.98234024 0.67130926 0.40492214]\n",
            " [0.5435984  0.42666143 0.54416946]]\n",
            "[[0.84048435 0.12143363 0.75283211]\n",
            " [0.98234024 0.67130926 0.40492214]\n",
            " [0.5435984  0.42666143 0.54416946]]\n"
          ],
          "name": "stdout"
        }
      ]
    },
    {
      "cell_type": "markdown",
      "metadata": {
        "id": "aiNro7zQvc7x"
      },
      "source": [
        "part 2\n"
      ]
    },
    {
      "cell_type": "code",
      "metadata": {
        "colab": {
          "base_uri": "https://localhost:8080/",
          "height": 350
        },
        "id": "d8RImh535COq",
        "outputId": "dd8a51c2-acc5-498a-f8dd-5bc26e74a8f3"
      },
      "source": [
        "import numpy as np\n",
        "import PIL\n",
        "\n",
        "img_data = PIL.Image.open('Desktop/panda_image.jpg' )\n",
        "img_arr = np.array(img_data) \n",
        "print(img_arr)"
      ],
      "execution_count": 48,
      "outputs": [
        {
          "output_type": "error",
          "ename": "FileNotFoundError",
          "evalue": "ignored",
          "traceback": [
            "\u001b[0;31m---------------------------------------------------------------------------\u001b[0m",
            "\u001b[0;31mFileNotFoundError\u001b[0m                         Traceback (most recent call last)",
            "\u001b[0;32m<ipython-input-48-1d95dfea8c86>\u001b[0m in \u001b[0;36m<module>\u001b[0;34m()\u001b[0m\n\u001b[1;32m      1\u001b[0m \u001b[0;32mimport\u001b[0m \u001b[0mnumpy\u001b[0m \u001b[0;32mas\u001b[0m \u001b[0mnp\u001b[0m\u001b[0;34m\u001b[0m\u001b[0;34m\u001b[0m\u001b[0m\n\u001b[1;32m      2\u001b[0m \u001b[0;32mimport\u001b[0m \u001b[0mPIL\u001b[0m\u001b[0;34m\u001b[0m\u001b[0;34m\u001b[0m\u001b[0m\n\u001b[0;32m----> 3\u001b[0;31m \u001b[0mimg_data\u001b[0m \u001b[0;34m=\u001b[0m \u001b[0mPIL\u001b[0m\u001b[0;34m.\u001b[0m\u001b[0mImage\u001b[0m\u001b[0;34m.\u001b[0m\u001b[0mopen\u001b[0m\u001b[0;34m(\u001b[0m\u001b[0;34m'Desktop/panda_image.jpg'\u001b[0m \u001b[0;34m)\u001b[0m\u001b[0;34m\u001b[0m\u001b[0;34m\u001b[0m\u001b[0m\n\u001b[0m\u001b[1;32m      4\u001b[0m \u001b[0mimg_arr\u001b[0m \u001b[0;34m=\u001b[0m \u001b[0mnp\u001b[0m\u001b[0;34m.\u001b[0m\u001b[0marray\u001b[0m\u001b[0;34m(\u001b[0m\u001b[0mimg_data\u001b[0m\u001b[0;34m)\u001b[0m\u001b[0;34m\u001b[0m\u001b[0;34m\u001b[0m\u001b[0m\n\u001b[1;32m      5\u001b[0m \u001b[0mprint\u001b[0m\u001b[0;34m(\u001b[0m\u001b[0mimg_arr\u001b[0m\u001b[0;34m)\u001b[0m\u001b[0;34m\u001b[0m\u001b[0;34m\u001b[0m\u001b[0m\n",
            "\u001b[0;32m/usr/local/lib/python3.7/dist-packages/PIL/Image.py\u001b[0m in \u001b[0;36mopen\u001b[0;34m(fp, mode)\u001b[0m\n\u001b[1;32m   2841\u001b[0m \u001b[0;34m\u001b[0m\u001b[0m\n\u001b[1;32m   2842\u001b[0m     \u001b[0;32mif\u001b[0m \u001b[0mfilename\u001b[0m\u001b[0;34m:\u001b[0m\u001b[0;34m\u001b[0m\u001b[0;34m\u001b[0m\u001b[0m\n\u001b[0;32m-> 2843\u001b[0;31m         \u001b[0mfp\u001b[0m \u001b[0;34m=\u001b[0m \u001b[0mbuiltins\u001b[0m\u001b[0;34m.\u001b[0m\u001b[0mopen\u001b[0m\u001b[0;34m(\u001b[0m\u001b[0mfilename\u001b[0m\u001b[0;34m,\u001b[0m \u001b[0;34m\"rb\"\u001b[0m\u001b[0;34m)\u001b[0m\u001b[0;34m\u001b[0m\u001b[0;34m\u001b[0m\u001b[0m\n\u001b[0m\u001b[1;32m   2844\u001b[0m         \u001b[0mexclusive_fp\u001b[0m \u001b[0;34m=\u001b[0m \u001b[0;32mTrue\u001b[0m\u001b[0;34m\u001b[0m\u001b[0;34m\u001b[0m\u001b[0m\n\u001b[1;32m   2845\u001b[0m \u001b[0;34m\u001b[0m\u001b[0m\n",
            "\u001b[0;31mFileNotFoundError\u001b[0m: [Errno 2] No such file or directory: 'Desktop/panda_image.jpg'"
          ]
        }
      ]
    },
    {
      "cell_type": "code",
      "metadata": {
        "colab": {
          "base_uri": "https://localhost:8080/"
        },
        "id": "NgvuboMHvhFG",
        "outputId": "37cb6c82-8bbe-4f4a-d876-56d8f1b89042"
      },
      "source": [
        "import pandas as pd\n",
        "from datetime import date\n",
        "current = pd.to_datetime(str(date.today()), format='%Y-%m-%d')\n",
        "print(current)"
      ],
      "execution_count": 32,
      "outputs": [
        {
          "output_type": "stream",
          "text": [
            "2021-08-08 00:00:00\n"
          ],
          "name": "stdout"
        }
      ]
    },
    {
      "cell_type": "markdown",
      "metadata": {
        "id": "4fAaXIV6w40j"
      },
      "source": [
        "part 3"
      ]
    },
    {
      "cell_type": "code",
      "metadata": {
        "colab": {
          "base_uri": "https://localhost:8080/"
        },
        "id": "qSiqEGYTw2Gp",
        "outputId": "304c4ba4-cb45-4d2e-ac54-3bf4e4c56306"
      },
      "source": [
        "from datetime import date\n",
        "\n",
        "def calculate_age(dtob):\n",
        "    today = date.today()\n",
        "    return today.year - dtob.year - ((today.month, today.day) < (dtob.month, dtob.day))\n",
        "print(\"year:\")\n",
        "year=int(input())\n",
        "print(\"month:\")\n",
        "month=int(input())\n",
        "print(\"day:\")\n",
        "day=int(input())\n",
        "print(\"your age is-\",calculate_age(date(year,month,day)))\n"
      ],
      "execution_count": 44,
      "outputs": [
        {
          "output_type": "stream",
          "text": [
            "year:\n",
            "2000\n",
            "month:\n",
            "9\n",
            "day:\n",
            "8\n",
            "your age is- 20\n"
          ],
          "name": "stdout"
        }
      ]
    }
  ]
}