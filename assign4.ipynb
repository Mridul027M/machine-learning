{
  "nbformat": 4,
  "nbformat_minor": 0,
  "metadata": {
    "colab": {
      "name": "assign4.ipynb",
      "provenance": [],
      "authorship_tag": "ABX9TyNhsVOC3nt8mVjtOl29Mv2O",
      "include_colab_link": true
    },
    "kernelspec": {
      "name": "python3",
      "display_name": "Python 3"
    },
    "language_info": {
      "name": "python"
    }
  },
  "cells": [
    {
      "cell_type": "markdown",
      "metadata": {
        "id": "view-in-github",
        "colab_type": "text"
      },
      "source": [
        "<a href=\"https://colab.research.google.com/github/Mridul027M/machine-learning/blob/main/assign4.ipynb\" target=\"_parent\"><img src=\"https://colab.research.google.com/assets/colab-badge.svg\" alt=\"Open In Colab\"/></a>"
      ]
    },
    {
      "cell_type": "code",
      "metadata": {
        "colab": {
          "base_uri": "https://localhost:8080/",
          "height": 1000
        },
        "id": "2JlYAglBIg-7",
        "outputId": "a9f9f1e8-2514-4584-9389-8dc3e1f5cb3a"
      },
      "source": [
        "import pandas as pd\n",
        "import numpy as np\n",
        "import matplotlib.pyplot as plt\n",
        "df = pd.read_excel('/content/slr06.xls')\n",
        "\n",
        "train=df.sample(frac=0.5,random_state=10)\n",
        "vald=df.sample(frac=0.2,random_state=10)\n",
        "test=df.sample(frac=0.3,random_state=10)\n",
        "\n",
        "tr=train.to_numpy()\n",
        "#print(tr)\n",
        "val=vald.to_numpy()\n",
        "tes=test.to_numpy()\n",
        "'''print(\"train dataset\")\n",
        "print(train)\n",
        "print(\"validation dataset\")\n",
        "print(vald)\n",
        "print(\"test dataset\")\n",
        "print(test)\n",
        "print(\"\\n\")\n",
        "'''\n",
        "\n",
        "lr=[0.1, 0.001, 0.0001, 0.5, 1]\n",
        "\n",
        "\n",
        "\n",
        "\n",
        "\n",
        "def solve(tr,leR):\n",
        "  mse=[]\n",
        "  y=[]\n",
        "  row=np.shape(tr)[0]\n",
        "  for i in range(row): \n",
        "    y.append(tr[i][1])\n",
        "  w=[1,1]\n",
        "  \n",
        "  \n",
        "  epoch=5\n",
        "  for i in range(epoch):\n",
        "    h=[]\n",
        "    for j in range(row):\n",
        "  \n",
        "      x=w[0]+w[1]*tr[j][0]\n",
        "      h.append(x)\n",
        "    updatedW=[]\n",
        "    \n",
        "    mse.append(np.square(np.subtract(y,h)).mean()) \n",
        "    for k in range(2):\n",
        "      sum=0\n",
        "      for b in range(len(h)):\n",
        "        if b==0:\n",
        "          sum+=(h[b]-y[b])*1\n",
        "        else:\n",
        "          sum+=(h[b]-y[b])*tr[b-1][0]  \n",
        "      w[k]=w[k]-leR/2*(sum) \n",
        "  print(mse) \n",
        "  return mse     \n",
        "\n",
        "for i in range(len(lr)):\n",
        "  print(\"MSE for training sample for learning rate \",lr[i],\":\")\n",
        "  solve(tr,lr[i])\n",
        "print(\"\\n\\n\\n\")\n",
        "for i in range(len(lr)):\n",
        "  print(\"MSE for validation sample for learning rate \",lr[i],\":\")\n",
        "  solve(val,lr[i])\n",
        "print(\"\\n\\n\\n\")  \n",
        "for i in range(len(lr)):\n",
        "  print(\"MSE for test sample for learning rate \",lr[i],\":\")\n",
        "  solve(tes,lr[i])  \n",
        "\n",
        "print(\"\\n\\n\\n\") \n",
        "ans=solve(tr,0.3)\n",
        "\n",
        "  \n",
        "# x axis values\n",
        "y = ans\n",
        "# corresponding y axis values\n",
        "x= [1,2,3,4,5]\n",
        "  \n",
        "# plotting the points \n",
        "plt.plot(x, y)\n",
        "  \n",
        "# naming the x axis\n",
        "plt.xlabel('epoch')\n",
        "# naming the y axis\n",
        "plt.ylabel('MSE')\n",
        "  \n",
        "# giving a title to my graph\n",
        "plt.title('assig4 graph!')\n",
        "  \n",
        "# function to show the plot\n",
        "plt.show()"
      ],
      "execution_count": 67,
      "outputs": [
        {
          "output_type": "stream",
          "text": [
            "*** No CODEPAGE record, no encoding_override: will use 'ascii'\n",
            "MSE for training sample for learning rate  0.1 :\n",
            "[7137.613125, 3892759228.6037145, 2273471484412518.5, 1.3278849750914446e+21, 7.755884833555625e+26]\n",
            "MSE for training sample for learning rate  0.001 :\n",
            "[7137.613125, 298882.1558385027, 13033112.182944298, 577774551.6848886, 25562994341.458958]\n",
            "MSE for training sample for learning rate  0.0001 :\n",
            "[7137.613125, 1188.6343352662786, 923.3107525671451, 923.3636714917006, 926.8113690485377]\n",
            "MSE for training sample for learning rate  0.5 :\n",
            "[7137.613125, 97515841061.6416, 1.426878735288649e+18, 2.087885678862839e+25, 3.0551065622129034e+32]\n",
            "MSE for training sample for learning rate  1 :\n",
            "[7137.613125, 390161858658.35895, 2.2841998691040477e+19, 1.3372951452196392e+27, 7.829254906860122e+34]\n",
            "\n",
            "\n",
            "\n",
            "\n",
            "MSE for validation sample for learning rate  0.1 :\n",
            "[9665.348461538462, 1545672912.5426114, 358397997810240.1, 8.303990615707022e+19, 1.9240165499543791e+25]\n",
            "MSE for validation sample for learning rate  0.001 :\n",
            "[9665.348461538462, 88974.19265195348, 1462587.7200303976, 20724714.905468304, 305451894.7287673]\n",
            "MSE for validation sample for learning rate  0.0001 :\n",
            "[9665.348461538462, 3616.8477644426116, 1706.1042702245566, 1043.9914027349748, 788.867673985645]\n",
            "MSE for validation sample for learning rate  0.5 :\n",
            "[9665.348461538462, 38793626159.4022, 2.254912649464619e+17, 1.3104910123404943e+24, 7.616201011131764e+30]\n",
            "MSE for validation sample for learning rate  1 :\n",
            "[9665.348461538462, 155250493298.6634, 3.610854145791868e+18, 8.397585070693023e+25, 1.952984896821071e+33]\n",
            "\n",
            "\n",
            "\n",
            "\n",
            "MSE for test sample for learning rate  0.1 :\n",
            "[9570.090526315787, 3904166670.9494386, 1621510873359499.5, 6.73543722444835e+20, 2.7977675973096442e+26]\n",
            "MSE for test sample for learning rate  0.001 :\n",
            "[9570.090526315787, 284698.4555794279, 8300065.732136706, 247749815.60156462, 7367954680.752514]\n",
            "MSE for test sample for learning rate  0.0001 :\n",
            "[9570.090526315787, 1840.7064465942804, 980.8915535408179, 912.3788830986322, 917.7859795880902]\n",
            "MSE for test sample for learning rate  0.5 :\n",
            "[9570.090526315787, 97836840818.90227, 1.0184857029303854e+18, 1.0602744086670242e+25, 1.103777706213733e+32]\n",
            "MSE for test sample for learning rate  1 :\n",
            "[9570.090526315787, 391463786429.007, 1.6305874895968883e+19, 6.792068057085645e+26, 2.8291759072965564e+34]\n",
            "\n",
            "\n",
            "\n",
            "\n",
            "[7137.613125, 35093885451.307556, 1.84794601992941e+17, 9.731057609202084e+23, 5.12425579234027e+30]\n"
          ],
          "name": "stdout"
        },
        {
          "output_type": "display_data",
          "data": {
            "image/png": "[encoded data removed]",
            "text/plain": [
              "<Figure size 432x288 with 1 Axes>"
            ]
          },
          "metadata": {
            "needs_background": "light"
          }
        }
      ]
    }
  ]
}