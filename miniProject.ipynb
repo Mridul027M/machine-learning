{
  "nbformat": 4,
  "nbformat_minor": 0,
  "metadata": {
    "colab": {
      "name": "miniProject.ipynb",
      "provenance": [],
      "collapsed_sections": [],
      "authorship_tag": "ABX9TyNn1gChqZDGq2L7Ca0N971F",
      "include_colab_link": true
    },
    "kernelspec": {
      "name": "python3",
      "display_name": "Python 3"
    },
    "language_info": {
      "name": "python"
    }
  },
  "cells": [
    {
      "cell_type": "markdown",
      "metadata": {
        "id": "view-in-github",
        "colab_type": "text"
      },
      "source": [
        "<a href=\"https://colab.research.google.com/github/Mridul027M/machine-learning/blob/main/miniProject.ipynb\" target=\"_parent\"><img src=\"https://colab.research.google.com/assets/colab-badge.svg\" alt=\"Open In Colab\"/></a>"
      ]
    },
    {
      "cell_type": "markdown",
      "metadata": {
        "id": "vPxXU-pYHICu"
      },
      "source": [
        "The below dataset mostly has text features which is solved by nlp or rnn where the texted features are encoded as integers or floating point values for use as input to a ML Algorithm. If we go through the NLP model the we can either use dictionary to map the text features or we can use encoder but we will have to take in consideration that one feature's value is not dominant over the other otherwise our model will be biased to that value. \n",
        "Here I have used one hot endoing technique to convert all the text fielded feautres into interger.\n",
        "example- job feature in the following dataset"
      ]
    },
    {
      "cell_type": "code",
      "metadata": {
        "id": "DixcsUm8E1fS"
      },
      "source": [
        "import pandas as pd\n",
        "import random\n",
        "from sklearn.preprocessing import OneHotEncoder\n",
        "import numpy as np\n",
        "from sklearn import preprocessing\n",
        "from sklearn.model_selection import train_test_split\n",
        "url = 'https://raw.githubusercontent.com/madmashup/targeted-marketing-predictive-engine/master/banking.csv'\n",
        "df = pd.read_csv(url, index_col=0)\n",
        "\n",
        "ohe=pd.get_dummies(df)    # one hot encoding for the categorical feature data\n",
        "y=ohe['y']\n",
        "scaler = preprocessing.RobustScaler()   #robust scaling\n",
        "robust_df = scaler.fit_transform(ohe)\n",
        "robust_df = pd.DataFrame(robust_df)\n",
        "\n",
        "data=np.array(robust_df)\n",
        "\n",
        "X_train, X_rem, y_train, y_rem = train_test_split(data,y, train_size=0.5)\n",
        "\n",
        "X_valid, X_test, y_valid, y_test = train_test_split(X_rem,y_rem, test_size=0.5)\n",
        "y_train=np.array(y_train)\n",
        "a=X_train.shape[0]\n",
        "b=X_train.shape[1]\n",
        "\n",
        "w0=[]\n",
        "for i in range(0,b):\n",
        "    w0.append(random.uniform(-0.3,0.3))\n",
        "w1=[]\n",
        "for i in range(0,b):\n",
        "    w1.append(random.uniform(-0.3,0.3))\n",
        "alpha=0.5\n",
        "\n",
        "def sigmoid(hypo):\n",
        "    return 1/(1+np.exp(-hypo))\n",
        "    \n",
        "\n"
      ],
      "execution_count": 42,
      "outputs": []
    },
    {
      "cell_type": "code",
      "metadata": {
        "id": "PFo0TU8x3gS-",
        "colab": {
          "base_uri": "https://localhost:8080/"
        },
        "outputId": "211cd313-8bac-4d42-9bd1-a4f5ce48608a"
      },
      "source": [
        "from sklearn.metrics import log_loss\n",
        "err=1\n",
        "def learning_sigmoid_neuron(train,y_train,w,err):\n",
        "    y_pred=[]\n",
        "    for i in range(0,a):\n",
        "        hypo=np.dot(w,train[i])\n",
        "        g=sigmoid(hypo)\n",
        "        \n",
        "        if(g>=0.5):\n",
        "            g=1\n",
        "        else:\n",
        "            g=0   \n",
        "        y_pred.append(g) \n",
        "        if g!=y_train[i]:\n",
        "            for j in range(0,b):\n",
        "                w[j]=w[j]-train[i][j]\n",
        "        \n",
        "    new_err=log_loss(y_train,y_pred)\n",
        "    print(new_err)\n",
        "    if(abs(new_err-err)>0.0001):\n",
        "        return\n",
        "    else:\n",
        "        err=new_err\n",
        "\n",
        "\n",
        "for i in range(0,10):\n",
        "    print(\"epoch-\",i)\n",
        "    learning_sigmoid_neuron(X_train,y_train,w0,err)\n",
        "\n"
      ],
      "execution_count": 48,
      "outputs": [
        {
          "output_type": "stream",
          "name": "stdout",
          "text": [
            "epoch- 0\n"
          ]
        },
        {
          "output_type": "stream",
          "name": "stderr",
          "text": [
            "/usr/local/lib/python3.7/dist-packages/ipykernel_launcher.py:34: RuntimeWarning: overflow encountered in exp\n"
          ]
        },
        {
          "output_type": "stream",
          "name": "stdout",
          "text": [
            "4.529937714406253\n",
            "epoch- 1\n"
          ]
        },
        {
          "output_type": "stream",
          "name": "stderr",
          "text": [
            "/usr/local/lib/python3.7/dist-packages/ipykernel_launcher.py:34: RuntimeWarning: overflow encountered in exp\n"
          ]
        },
        {
          "output_type": "stream",
          "name": "stdout",
          "text": [
            "4.533292048289165\n",
            "epoch- 2\n"
          ]
        },
        {
          "output_type": "stream",
          "name": "stderr",
          "text": [
            "/usr/local/lib/python3.7/dist-packages/ipykernel_launcher.py:34: RuntimeWarning: overflow encountered in exp\n"
          ]
        },
        {
          "output_type": "stream",
          "name": "stdout",
          "text": [
            "4.53161488134771\n",
            "epoch- 3\n"
          ]
        },
        {
          "output_type": "stream",
          "name": "stderr",
          "text": [
            "/usr/local/lib/python3.7/dist-packages/ipykernel_launcher.py:34: RuntimeWarning: overflow encountered in exp\n"
          ]
        },
        {
          "output_type": "stream",
          "name": "stdout",
          "text": [
            "4.531614881347708\n",
            "epoch- 4\n"
          ]
        },
        {
          "output_type": "stream",
          "name": "stderr",
          "text": [
            "/usr/local/lib/python3.7/dist-packages/ipykernel_launcher.py:34: RuntimeWarning: overflow encountered in exp\n"
          ]
        },
        {
          "output_type": "stream",
          "name": "stdout",
          "text": [
            "4.531614881347708\n",
            "epoch- 5\n"
          ]
        },
        {
          "output_type": "stream",
          "name": "stderr",
          "text": [
            "/usr/local/lib/python3.7/dist-packages/ipykernel_launcher.py:34: RuntimeWarning: overflow encountered in exp\n"
          ]
        },
        {
          "output_type": "stream",
          "name": "stdout",
          "text": [
            "4.533292048289165\n",
            "epoch- 6\n"
          ]
        },
        {
          "output_type": "stream",
          "name": "stderr",
          "text": [
            "/usr/local/lib/python3.7/dist-packages/ipykernel_launcher.py:34: RuntimeWarning: overflow encountered in exp\n"
          ]
        },
        {
          "output_type": "stream",
          "name": "stdout",
          "text": [
            "4.531614881347708\n",
            "epoch- 7\n"
          ]
        },
        {
          "output_type": "stream",
          "name": "stderr",
          "text": [
            "/usr/local/lib/python3.7/dist-packages/ipykernel_launcher.py:34: RuntimeWarning: overflow encountered in exp\n"
          ]
        },
        {
          "output_type": "stream",
          "name": "stdout",
          "text": [
            "4.533292048289165\n",
            "epoch- 8\n"
          ]
        },
        {
          "output_type": "stream",
          "name": "stderr",
          "text": [
            "/usr/local/lib/python3.7/dist-packages/ipykernel_launcher.py:34: RuntimeWarning: overflow encountered in exp\n"
          ]
        },
        {
          "output_type": "stream",
          "name": "stdout",
          "text": [
            "4.53161488134771\n",
            "epoch- 9\n"
          ]
        },
        {
          "output_type": "stream",
          "name": "stderr",
          "text": [
            "/usr/local/lib/python3.7/dist-packages/ipykernel_launcher.py:34: RuntimeWarning: overflow encountered in exp\n"
          ]
        },
        {
          "output_type": "stream",
          "name": "stdout",
          "text": [
            "4.531614881347708\n"
          ]
        }
      ]
    },
    {
      "cell_type": "code",
      "metadata": {
        "colab": {
          "base_uri": "https://localhost:8080/"
        },
        "id": "GWJHNL1qloSn",
        "outputId": "1dc7df87-9761-43b9-c2c1-03e7056c3bb3"
      },
      "source": [
        "from sklearn.metrics import mean_squared_error\n",
        "import numpy as np\n",
        "from sklearn.metrics import confusion_matrix\n",
        "test_y=[]\n",
        "h=[]\n",
        "m=X_test.shape[0]\n",
        "y_test=np.array(y_test)\n",
        "def test(x_test,y_test,test_y,w):\n",
        "    for i in range(0,m):\n",
        "        hypo=np.dot(w,x_test[i])\n",
        "        h.append(hypo)\n",
        "        g=sigmoid(hypo)\n",
        "        \n",
        "        if(g>=0.5):\n",
        "            g=1\n",
        "        else:\n",
        "            g=0   \n",
        "        test_y.append(g)\n",
        "\n",
        "    mse=mean_squared_error(y_test,test_y)\n",
        "    print(\"mean square error-\",mse)\n",
        "    per_err=0\n",
        "    for i in range(0,m):\n",
        "        if(y_test[i]==test_y[i]):\n",
        "            per_err+=1\n",
        "    print(\"percentage error is-\",per_err/y_test.shape[0]*100)        \n",
        "    \n",
        "test(X_test,y_test,test_y,w0)\n",
        "\n",
        "confusion_mat=confusion_matrix(y_test,test_y )\n",
        "accuracy=(confusion_mat[0][0]+confusion_mat[1][1])/(confusion_mat[0][0]+confusion_mat[1][1]+confusion_mat[0][1]+confusion_mat[1][0])\n",
        "print(accuracy*100)"
      ],
      "execution_count": 44,
      "outputs": [
        {
          "output_type": "stream",
          "name": "stderr",
          "text": [
            "/usr/local/lib/python3.7/dist-packages/ipykernel_launcher.py:34: RuntimeWarning: overflow encountered in exp\n"
          ]
        },
        {
          "output_type": "stream",
          "name": "stdout",
          "text": [
            "mean square error- 0.127609983490337\n",
            "percentage error is- 87.2390016509663\n",
            "87.2390016509663\n"
          ]
        }
      ]
    },
    {
      "cell_type": "code",
      "metadata": {
        "colab": {
          "base_uri": "https://localhost:8080/"
        },
        "id": "Gc4JPfUn6SYq",
        "outputId": "89f6a024-7c1c-4201-c12a-d6ffc03b3536"
      },
      "source": [
        "##### hyperparametr tunning\n",
        "import math\n",
        "import numpy as np\n",
        "\n",
        "cost=1\n",
        "alpha=0.5\n",
        "def learning_logistic_reg(train,y_train,w,cost):\n",
        "    y_pred=[]\n",
        "    h=[]\n",
        "    for i in range(0,a):\n",
        "        hypo=np.dot(w,train[i])\n",
        "        h.append(hypo)\n",
        "        g=sigmoid(hypo)\n",
        "        \n",
        "        if(g>=0.5):\n",
        "            g=1\n",
        "        else:\n",
        "            g=0   \n",
        "        y_pred.append(g) \n",
        "\n",
        "    cost_itr=0\n",
        "    for i in range(0,a):\n",
        "        if(h[i]<0):\n",
        "            cost_itr+=(1-y_train[i])*math.log((1-h[i]))\n",
        "        else:\n",
        "            cost_itr+=(y_train[i]*math.log(h[i]))\n",
        "    cost_itr=cost_itr/(a)\n",
        "    log_loss_itr=log_loss(y_train,h)\n",
        "    print(\"cost \",cost_itr)\n",
        "    print(\"logg loss\",log_loss_itr)\n",
        "\n",
        "    for i in range(0,b):\n",
        "        temp=0\n",
        "        for j in range(0,a):\n",
        "            temp+=(y_train[i]-h[i])*train[j][i]\n",
        "        temp=alpha*temp/a\n",
        "        w[i]=w[i]+temp    \n",
        "            \n",
        "    if(abs(log_loss_itr-cost)>0.001):\n",
        "        return\n",
        "\n",
        "for i in range(0,10):\n",
        "    \n",
        "    print(\"epoch-\",i)\n",
        "    learning_logistic_reg(X_train,y_train,w1,cost)\n",
        "\n"
      ],
      "execution_count": 45,
      "outputs": [
        {
          "output_type": "stream",
          "name": "stdout",
          "text": [
            "epoch- 0\n",
            "cost  0.20748686808691724\n",
            "logg loss 1.8428493852281125\n",
            "epoch- 1\n"
          ]
        },
        {
          "output_type": "stream",
          "name": "stderr",
          "text": [
            "/usr/local/lib/python3.7/dist-packages/ipykernel_launcher.py:34: RuntimeWarning: overflow encountered in exp\n"
          ]
        },
        {
          "output_type": "stream",
          "name": "stdout",
          "text": [
            "cost  2.015807735498131\n",
            "logg loss 3.4082669907060197\n",
            "epoch- 2\n",
            "cost  1.3636557467779868\n",
            "logg loss 30.145933130203968\n",
            "epoch- 3\n"
          ]
        },
        {
          "output_type": "stream",
          "name": "stderr",
          "text": [
            "/usr/local/lib/python3.7/dist-packages/ipykernel_launcher.py:34: RuntimeWarning: overflow encountered in exp\n"
          ]
        },
        {
          "output_type": "stream",
          "name": "stdout",
          "text": [
            "cost  17.089700210471182\n",
            "logg loss 4.164315321168887\n",
            "epoch- 4\n"
          ]
        },
        {
          "output_type": "stream",
          "name": "stderr",
          "text": [
            "/usr/local/lib/python3.7/dist-packages/ipykernel_launcher.py:34: RuntimeWarning: overflow encountered in exp\n"
          ]
        },
        {
          "output_type": "stream",
          "name": "stdout",
          "text": [
            "cost  3.7176380242689473\n",
            "logg loss 30.37517047670611\n",
            "epoch- 5\n"
          ]
        },
        {
          "output_type": "stream",
          "name": "stderr",
          "text": [
            "/usr/local/lib/python3.7/dist-packages/ipykernel_launcher.py:34: RuntimeWarning: overflow encountered in exp\n"
          ]
        },
        {
          "output_type": "stream",
          "name": "stdout",
          "text": [
            "cost  34.32503316312074\n",
            "logg loss 4.164315321168887\n",
            "epoch- 6\n"
          ]
        },
        {
          "output_type": "stream",
          "name": "stderr",
          "text": [
            "/usr/local/lib/python3.7/dist-packages/ipykernel_launcher.py:34: RuntimeWarning: overflow encountered in exp\n"
          ]
        },
        {
          "output_type": "stream",
          "name": "stdout",
          "text": [
            "cost  6.080585446094282\n",
            "logg loss 30.37517047670611\n",
            "epoch- 7\n"
          ]
        },
        {
          "output_type": "stream",
          "name": "stderr",
          "text": [
            "/usr/local/lib/python3.7/dist-packages/ipykernel_launcher.py:34: RuntimeWarning: overflow encountered in exp\n"
          ]
        },
        {
          "output_type": "stream",
          "name": "stdout",
          "text": [
            "cost  51.560369755338336\n",
            "logg loss 4.164315321168887\n",
            "epoch- 8\n"
          ]
        },
        {
          "output_type": "stream",
          "name": "stderr",
          "text": [
            "/usr/local/lib/python3.7/dist-packages/ipykernel_launcher.py:34: RuntimeWarning: overflow encountered in exp\n"
          ]
        },
        {
          "output_type": "stream",
          "name": "stdout",
          "text": [
            "cost  8.443532868018837\n",
            "logg loss 30.37517047670611\n",
            "epoch- 9\n"
          ]
        },
        {
          "output_type": "stream",
          "name": "stderr",
          "text": [
            "/usr/local/lib/python3.7/dist-packages/ipykernel_launcher.py:34: RuntimeWarning: overflow encountered in exp\n"
          ]
        },
        {
          "output_type": "stream",
          "name": "stdout",
          "text": [
            "cost  68.79570634755594\n",
            "logg loss 4.164315321168887\n"
          ]
        }
      ]
    },
    {
      "cell_type": "code",
      "metadata": {
        "colab": {
          "base_uri": "https://localhost:8080/"
        },
        "id": "C6tbPKiehi4Z",
        "outputId": "6c4c5541-8416-4239-9344-b2ee0e0405cb"
      },
      "source": [
        "from sklearn.metrics import mean_squared_error\n",
        "import numpy as np\n",
        "from sklearn.metrics import confusion_matrix\n",
        "test_y=[]\n",
        "h=[]\n",
        "m=X_test.shape[0]\n",
        "y_test=np.array(y_test)\n",
        "def test(x_test,y_test,test_y,w):\n",
        "    for i in range(0,m):\n",
        "        hypo=np.dot(w,x_test[i])\n",
        "        h.append(hypo)\n",
        "        g=sigmoid(hypo)\n",
        "        \n",
        "        if(g>=0.5):\n",
        "            g=1\n",
        "        else:\n",
        "            g=0   \n",
        "        test_y.append(g)\n",
        "\n",
        "    mse=mean_squared_error(y_test,test_y)\n",
        "    print(\"mean square error-\",mse)\n",
        "    per_err=0\n",
        "    for i in range(0,m):\n",
        "        if(y_test[i]==test_y[i]):\n",
        "            per_err+=1\n",
        "    print(\"percentage error is-\",per_err/y_test.shape[0]*100)        \n",
        "    \n",
        "test(X_test,y_test,test_y,w1)\n",
        "\n",
        "confusion_mat=confusion_matrix(y_test,test_y )\n",
        "accuracy=(confusion_mat[0][0]+confusion_mat[1][1])/(confusion_mat[0][0]+confusion_mat[1][1]+confusion_mat[0][1]+confusion_mat[1][0])\n",
        "print(accuracy*100)"
      ],
      "execution_count": 47,
      "outputs": [
        {
          "output_type": "stream",
          "name": "stdout",
          "text": [
            "mean square error- 0.8834612022919297\n",
            "percentage error is- 11.65387977080703\n",
            "11.65387977080703\n"
          ]
        },
        {
          "output_type": "stream",
          "name": "stderr",
          "text": [
            "/usr/local/lib/python3.7/dist-packages/ipykernel_launcher.py:34: RuntimeWarning: overflow encountered in exp\n"
          ]
        }
      ]
    },
    {
      "cell_type": "markdown",
      "metadata": {
        "id": "Jj2cz8lqHG_I"
      },
      "source": [
        ""
      ]
    }
  ]
}