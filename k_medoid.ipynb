{
  "nbformat": 4,
  "nbformat_minor": 0,
  "metadata": {
    "colab": {
      "name": "k-medoid.ipynb",
      "provenance": [],
      "authorship_tag": "ABX9TyMOG4dj4docx5FS2L5qlYkO",
      "include_colab_link": true
    },
    "kernelspec": {
      "name": "python3",
      "display_name": "Python 3"
    },
    "language_info": {
      "name": "python"
    }
  },
  "cells": [
    {
      "cell_type": "markdown",
      "metadata": {
        "id": "view-in-github",
        "colab_type": "text"
      },
      "source": [
        "<a href=\"https://colab.research.google.com/github/Mridul027M/machine-learning/blob/main/k_medoid.ipynb\" target=\"_parent\"><img src=\"https://colab.research.google.com/assets/colab-badge.svg\" alt=\"Open In Colab\"/></a>"
      ]
    },
    {
      "cell_type": "code",
      "metadata": {
        "id": "HaT-CJhek2Te",
        "colab": {
          "base_uri": "https://localhost:8080/"
        },
        "outputId": "29f26556-13a3-4246-fee9-e74b26d609bb"
      },
      "source": [
        "import matplotlib.pyplot as plt\n",
        "import numpy as np\n",
        "import random\n",
        "from sklearn.cluster import KMeans\n",
        "from sklearn.metrics import silhouette_score\n",
        "import math\n",
        "import seaborn as sns\n",
        "from sklearn.model_selection import KFold\n",
        "from sklearn.preprocessing import MinMaxScaler\n",
        "iris = sns.load_dataset(\"iris\")\n",
        "data2=iris.to_numpy()\n",
        "\n",
        "y=np.array(iris['species'])\n",
        "for i in range(len(y)):\n",
        "    if(y[i]==\"setosa\"):\n",
        "        y[i]=0\n",
        "    elif(y[i]==\"versicolor\"):   \n",
        "        y[i]=1\n",
        "    else:\n",
        "        y[i]=2\n",
        "data2=np.delete(data2,4,1)        \n",
        "data=data2\n",
        "\n",
        "data=np.insert(data,4,y,axis=1)\n",
        "\n",
        "cluster=[0,0,0]\n",
        "for i in range(0,3):\n",
        "    a=random.randint(0,149)\n",
        "    cluster[i]=data2[a]\n",
        "    \n",
        "\n",
        "def dist(p1,p2):    #calculating distance between cluster and each data in dataset\n",
        "    distance = math.sqrt( ((p1[0]-p2[0])**2)+((p1[1]-p2[1])**2) )\n",
        "    return distance\n",
        "\n",
        "def medoid(data2,y,cluster,x):   #  k-medoid fuction \n",
        "    for i in range(len(data2)):\n",
        "        smallest=100000\n",
        "        y_smallest=[]\n",
        "        \n",
        "        for j in range(0,3):\n",
        "            dis=dist(data2[i],cluster[j])\n",
        "            if dis<smallest and dis!=0:   # finding the class to which the data is nearest\n",
        "                smallest=dis\n",
        "                y_smallest=y[i]\n",
        "                 \n",
        "   \n",
        "        x[i]=y_smallest\n",
        "    for j in range(0,3):    # updating the cluster\n",
        "        smallest=10000\n",
        "        clus_update=[]\n",
        "        for i in range(0,150):\n",
        "            if y[i]==j:\n",
        "                dis=dist(data2[i],cluster[j])\n",
        "                if dis<smallest and dis!=0:\n",
        "                    smallest=dis\n",
        "                    clus_update=data2[i]\n",
        "        cluster[j]=clus_update  \n",
        "    \n",
        "\n",
        "\n",
        "x=np.zeros(150)\n",
        "  \n",
        "for k in range(0,100):\n",
        "    if(k>1):\n",
        "        same=1\n",
        "        for i in range(0,150):\n",
        "            if x[i]!=y[i]:\n",
        "                same=0*same\n",
        "        if(same==0):\n",
        "            break\n",
        "\n",
        "        else:\n",
        "            medoid(data2,y,cluster,x)\n",
        "    else:\n",
        "        medoid(data2,y,cluster,x)\n",
        "        \n",
        "        \n",
        "silhoutte=silhouette_score(data2,y)      \n",
        "print(\"silhouette coefficient for k-medoid \",silhoutte)\n",
        "\n",
        "kmeans = KMeans(n_clusters=3, random_state=0).fit(data)\n",
        "silhouette = silhouette_score(data, kmeans.labels_)\n",
        "print(\"silhouette coefficient for k-means \",silhouette)"
      ],
      "execution_count": 72,
      "outputs": [
        {
          "output_type": "stream",
          "name": "stdout",
          "text": [
            "silhouette coefficient for k-medoid  0.5034774406932966\n",
            "silhouette coefficient for k-means  0.5818972375239817\n"
          ]
        }
      ]
    }
  ]
}